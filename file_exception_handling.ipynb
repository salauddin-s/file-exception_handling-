{
  "nbformat": 4,
  "nbformat_minor": 0,
  "metadata": {
    "colab": {
      "provenance": []
    },
    "kernelspec": {
      "name": "python3",
      "display_name": "Python 3"
    },
    "language_info": {
      "name": "python"
    }
  },
  "cells": [
    {
      "cell_type": "markdown",
      "source": [
        "**1. What is the difference between interpreted and compiled languages**\n",
        "  - interpreted language\n",
        "      - source code read and execute line by line in the interpreter\n",
        "      - no seprate compilation happens , execution happens directly from the source code\n",
        "      - it is slower then then compiler because it read line by line then execute\n",
        "      - example : python , java\n",
        "   - compiled language\n",
        "     - source code is converted into machine language means binary form\n",
        "     - after compiled the code run directly by the cpu\n",
        "     - it is faster execution as compare to the interpreter because it translate the code at a time\n",
        "     - it is platefrom independent because the source code is converted into bytecode and that can run in any operating system\n",
        "     -exampel : c,c++  "
      ],
      "metadata": {
        "id": "EH2uKbLSrRLS"
      }
    },
    {
      "cell_type": "markdown",
      "source": [
        "**2. What is exception handling in Python?**\n",
        "  - Exception handling means we handle the error in the code to maintain the flow of the program like if you are dividing any numbert with zero it through an error and after that  rest code is not execute so we handle error"
      ],
      "metadata": {
        "id": "Mm-_5G_irnW-"
      }
    },
    {
      "cell_type": "markdown",
      "source": [
        "**3. What is the purpose of the finally block in exception handling?**\n",
        "  - finally block is always execute no matter the try or catch block is execute , it is used in cleaning the code (eg. closing file)"
      ],
      "metadata": {
        "id": "Kr91QJA6tvCj"
      }
    },
    {
      "cell_type": "markdown",
      "source": [
        "**4. What is logging in Python?**\n",
        "   - it record the state and flow of program\n",
        "   - it is useful for understanding , monitoring and debugging code\n",
        "   - it has different level debugging-info-warning-error-critical\n",
        "   - it show how progaram behaves over time"
      ],
      "metadata": {
        "id": "SEew56Yvw9oE"
      }
    },
    {
      "cell_type": "markdown",
      "source": [
        "**5.  What is the significance of the __ del __ method in Python?**\n",
        "   - __ del __ method is destructre in python it is called automatically when object is to be destroy\n",
        "   - the main purpose is to cleanup operation before the object remove from memory"
      ],
      "metadata": {
        "id": "9zDnbdUj3cLi"
      }
    },
    {
      "cell_type": "markdown",
      "source": [
        "**6. What is the difference between import and from ... import in Python?**\n",
        "   - **impoort** : import whole module ,here we need to use the prefix of the module name to access function or variable , **examole** import math then uses print(math.ceiling(7.3))\n",
        "   - **...import** means  we use module , here no need to use prefix name of the module , **example** from math import sqrt then print(sqrt(5))"
      ],
      "metadata": {
        "id": "aeUG2Dnz30ar"
      }
    },
    {
      "cell_type": "markdown",
      "source": [
        "**7. How can you handle multiple exceptions in Python?**\n",
        "   -  we handle multiple exception using try and , multiple catch block\n",
        "   - in try block if there is no error then else block is execute if ther is error in try block then except block is execute according to the error"
      ],
      "metadata": {
        "id": "msz1sTTP5l0B"
      }
    },
    {
      "cell_type": "markdown",
      "source": [
        "**8. What is the purpose of the with statement when handling files in Python?**\n",
        "   - when we are using with to open the file python take care in closing the file automatically\n",
        "   - when we use no need of f.close() to close the file it make readable and error less"
      ],
      "metadata": {
        "id": "OSppBLBm9GCI"
      }
    },
    {
      "cell_type": "markdown",
      "source": [
        "**9. What is the difference between multithreading and multiprocessing?**\n",
        "   - multithreading\n",
        "      - since it happens in one processor, so thread share the same memory spacea and resource(varible,data,executbale program) within a process\n",
        "      - inut/output process like downloading the file\n",
        "      - best for task that are same application and need to share multiple data or resources , example downloading and managing multiple tabs on chrome browser\n",
        "   - multiprocessing\n",
        "      - in multiprocessing it allows to run multiple processor simultaneously using multiple cpu core\n",
        "      - in multiprocessing each process has its own memory so they can't interfare to each other\n",
        "      - truly parallel on multiple cpu core\n",
        "      - example- listining music and playing game"
      ],
      "metadata": {
        "id": "pyJF5Jcv8CZj"
      }
    },
    {
      "cell_type": "markdown",
      "source": [
        "**10. What are the advantages of using logging in a program?**\n",
        "   - it is use for debugging, monitoring and maintaining application\n",
        "   - it is better then print statement because it provide structured, timestamped , categorise\n",
        "   - it has different login level that helps in filtering the important information (debug, info, warning, error, critical)"
      ],
      "metadata": {
        "id": "kyySLj5q4WH4"
      }
    },
    {
      "cell_type": "markdown",
      "source": [
        "**11. What is memory management in Python?**\n",
        "   - memory managment refer that how pyhton handle allocation and dellocation of memory for object so that program run efficiently\n",
        "   - automatic memory management eg. garbage collector is that it destroy the object which not in use\n",
        "   - python keep special area in heap all the object(string, list, number) leave inside it\n",
        "   - if the variable type change in anytime than memory automatically mange it examole >> x=10, x=\"python\", here memory manged form int to string automatically"
      ],
      "metadata": {
        "id": "ed20iAVqH1Iu"
      }
    },
    {
      "cell_type": "markdown",
      "source": [
        "**12. What are the basic steps involved in exception handling in Python?**\n",
        "   - try, except,else and finally block\n",
        "   - in try block we put the code which are risky/suspicious\n",
        "   - if an exception occur in try block then code jump into  except block where handle the exception using Exception(generic handle) or (eg.zeroDivisionError,ValueError,etc)\n",
        "   - else block execute if there is no error in the try block code\n",
        "   - finally block execute always no matter error occur or not"
      ],
      "metadata": {
        "id": "BHItxs9IIPxV"
      }
    },
    {
      "cell_type": "markdown",
      "source": [
        "**13. Why is memory management important in Python?**\n",
        "   - memory managment is important in python because to run code efficiently and not waste the system resources\n",
        "   - computer have limited RAM if memory is not mangaed proporly then it slow down the system even causing crashes\n",
        "   - python use a garbage collector that is automatically free up memory from object that is no longer needed"
      ],
      "metadata": {
        "id": "9JgXTp3TLLzv"
      }
    },
    {
      "cell_type": "markdown",
      "source": [
        "**14. What is the role of try and except in exception handling?**\n",
        "   - role of try\n",
        "     - in try block we write the code which may error occur\n",
        "     - if there is no error in try block the code excute normally\n",
        "     - if there is error in try block then it execute to the except block\n",
        "   - role of except block\n",
        "     - it handle the error occur in the code\n",
        "     - except help in the execution of next program after the error occur\n",
        "     - it handle by specific exception like (ZeroDivisionError) and multiple exception like except(ValueError, TypeError)"
      ],
      "metadata": {
        "id": "AxzQ9qs8Lg34"
      }
    },
    {
      "cell_type": "markdown",
      "source": [
        "**15. How does Python's garbage collection system work?**\n",
        "  - in python each object keep a referance count means when the object referance count is zero python immediately free that memory\n",
        "  - python has a cycle that is called garbage cycle collector that runs in the back ground it dectact that if the object is refer to each other but not use any where else in program when it find them and delete them so not waste the memory"
      ],
      "metadata": {
        "id": "dzZv5tzUOCEE"
      }
    },
    {
      "cell_type": "markdown",
      "source": [
        "**16. What is the purpose of the else block in exception handling?**\n",
        "  -  else block is execute when there is no exception in the try block\n",
        "  - you can also use to print the result of the code that are in try block"
      ],
      "metadata": {
        "id": "OFVaW2WEOI-I"
      }
    },
    {
      "cell_type": "markdown",
      "source": [
        "**17. What are the common logging levels in Python?**\n",
        "  - common logging levels are\n",
        "  - debug\n",
        "  - info\n",
        "  - warning\n",
        "  - error\n",
        "  - critical"
      ],
      "metadata": {
        "id": "N-u-7KX7RRXq"
      }
    },
    {
      "cell_type": "markdown",
      "source": [
        "**18. What is the difference between os.fork() and multiprocessing in Python?**\n",
        "  - os.fork()\n",
        "     - it creates a new process by duplicating the current process\n",
        "     - you directly deal with process creation\n",
        "     - no built way to share data safely between parent and child you needs things like socket or share data manually\n",
        "     - it works only on unix\\linux not in window\n",
        "  - multiprocessing\n",
        "    - provide a high level API for process creation\n",
        "    - it has built-in support for data sharing like queue, pipe, valu, manager, array\n",
        "    - it works both in window and unix\n",
        "    - you speed of task using multiple processing in pythonic way"
      ],
      "metadata": {
        "id": "I2JDliXnRpg7"
      }
    },
    {
      "cell_type": "markdown",
      "source": [
        "**19. What is the importance of closing a file in Python?**\n",
        "   - let see if you are open the file any name lets file.txt and then we write inside it and when we open the directory file.txt then we see there is nothing show  in the file until i close the file\n",
        "   - when we close the file it means all the data are store in the disk\n",
        "   - if file is not close while writing it may endup or curropted\n",
        "   - an open file may be locked by python"
      ],
      "metadata": {
        "id": "rBTTBqj8R_au"
      }
    },
    {
      "cell_type": "markdown",
      "source": [
        "**20. What is the difference between file.read() and file.readline() in Python?**\n",
        "  - file.read()\n",
        "    -  means it reads all the content of the file,\n",
        "    - this is used when need all the data ,\n",
        "    - here we ask to read  file.read(5) it reads the first 5 character\n",
        "  - file.readline()\n",
        "     - means it reads one line from the file,\n",
        "     - this is used when processing file line by line\n",
        "     - here we read line by line not like file.read() character wise"
      ],
      "metadata": {
        "id": "Sifjj4MrUO2o"
      }
    },
    {
      "cell_type": "markdown",
      "source": [
        "**21. What is the logging module in Python used for?**\n",
        "   - the logging module in python used for tracking event that happens when program runs\n",
        "   - the logging is used for records about what your program is doing , by debugging, monitoring it helps in find bugs and fixed it\n",
        "   - logs errors with useful details like time, function name, or line number"
      ],
      "metadata": {
        "id": "jFHZaMJZX876"
      }
    },
    {
      "cell_type": "markdown",
      "source": [
        "**22. What is the os module in Python used for in file handling?**\n",
        "   - os module used in python are:\n",
        "     - os.getcwd >> get current working directory\n",
        "     - os.mkdir()>>  make directory\n",
        "     - os.makedirs()>> create nested directory\n",
        "     - os.rmdir()>>  remove empty  directory\n",
        "     - os.removedir() to remove cnested directory\n",
        "     - os.remove() >> delete file\n",
        "     - os.rename()>> reaname the file"
      ],
      "metadata": {
        "id": "W7mQRdmcYhDY"
      }
    },
    {
      "cell_type": "markdown",
      "source": [
        "**23. What are the challenges associated with memory management in Python?**\n",
        "   - Referance cycle one object point to each other, even the program doesnot use anymore there reference count never goes to zero means the program its self no way to access that , so grabge collector dected it and freeup memeory by delting this\n",
        "   - if you make a referance of unused object ,then memory is not free , this make use more RAM\n",
        "   - garbage collector take extra time if garbage collector runs on larg programs it can slow things down"
      ],
      "metadata": {
        "id": "FztZhEh2bJxD"
      }
    },
    {
      "cell_type": "markdown",
      "source": [
        "**24. How do you raise an exception manually in Python?**\n",
        "   - let see with example  we creat a function of validate_salary with parameter salary and take input from the user(enter_salary) if user input less than 0 it show \"not negative salary\"  , elif user input greater than 10000000 then it show unexpected salary, else  \"valid salary\"  "
      ],
      "metadata": {
        "id": "nNQWNj94bSib"
      }
    },
    {
      "cell_type": "markdown",
      "source": [
        "**25. Why is it important to use multithreading in certain applications?**\n",
        "   - improve resposes one thread can handle user input another does background work, example a text editor can save the file in the background  while you are keep typing\n",
        "   - thread make a program to do several thing at once like opening a page , filling form, submiting form\n",
        "   - better resources utilization while one thread is waiting another can cantinue working, example downloading a file and also playing music"
      ],
      "metadata": {
        "id": "krEyLxDLe12N"
      }
    },
    {
      "cell_type": "code",
      "source": [
        "# 1. How can you open a file for writing in Python and write a string to it ?\n",
        "with open(\"file.txt\",\"w\") as f:\n",
        "  f.write(\"this is first line \\n\")\n",
        "  f.write(\"this is second line \\n\")\n",
        "  f.write(\"this is third line \\n \")\n",
        "  f.write(\"this is fourth line \\n \")"
      ],
      "metadata": {
        "id": "OcTGw-JTgMJd"
      },
      "execution_count": null,
      "outputs": []
    },
    {
      "cell_type": "code",
      "source": [
        "# 2. Write a Python program to read the contents of a file and print each line.\n",
        "with open(\"file.txt\",\"r\") as f:\n",
        "  for i in f:\n",
        "    print(i)\n"
      ],
      "metadata": {
        "colab": {
          "base_uri": "https://localhost:8080/"
        },
        "id": "AYiYqWW0mqL8",
        "outputId": "cb1beac7-50d0-48ff-ddd1-211359362b1a"
      },
      "execution_count": null,
      "outputs": [
        {
          "output_type": "stream",
          "name": "stdout",
          "text": [
            "this is first line \n",
            "\n",
            "this is second line \n",
            "\n",
            "this is third line \n",
            "\n",
            " this is fourth line \n",
            "\n",
            " \n"
          ]
        }
      ]
    },
    {
      "cell_type": "code",
      "source": [
        "# 3. How would you handle a case where the file doesn't exist while trying to open it for reading?\n",
        "try:\n",
        "  with open(\"file_doesnot_exist\",\"r\") as f:\n",
        "    content = f.read()\n",
        "    print(content)\n",
        "except FileNotFoundError:\n",
        "  print(\"error : file doesnot exist\")"
      ],
      "metadata": {
        "id": "wJwYxxfhoDsf",
        "colab": {
          "base_uri": "https://localhost:8080/"
        },
        "outputId": "1e0ed1e0-5384-4e7e-fd4d-f46b5b44277f"
      },
      "execution_count": null,
      "outputs": [
        {
          "output_type": "stream",
          "name": "stdout",
          "text": [
            "error : file doesnot exist\n"
          ]
        }
      ]
    },
    {
      "cell_type": "code",
      "source": [
        "# 4. Write a Python script that reads from one file and writes its content to another file\n",
        "with open(\"file1.txt\",\"w\") as f:\n",
        "  f.write(\"hello, python \\n\")\n",
        "  f.write(\"hello, world \\n\")\n",
        "\n",
        "with open(\"file1.txt\",\"r\") as source_file, open(\"file2.txt\",\"w\") as destionation_file:\n",
        "  content = source_file.read()\n",
        "  destionation_file.write(content)\n",
        "print(\"content write successfully \")\n",
        "\n",
        "\n",
        "with open(\"file2.txt\",\"r\") as f2:\n",
        "  for i in f2:\n",
        "    print(i.strip())"
      ],
      "metadata": {
        "colab": {
          "base_uri": "https://localhost:8080/"
        },
        "id": "WXP-Y8YKU3iK",
        "outputId": "5f4553d2-f0e0-4c3d-c0c3-10815b8b139d"
      },
      "execution_count": null,
      "outputs": [
        {
          "output_type": "stream",
          "name": "stdout",
          "text": [
            "content write successfully \n",
            "hello, python\n",
            "hello, world\n"
          ]
        }
      ]
    },
    {
      "cell_type": "code",
      "source": [
        "# 5. How would you catch and handle division by zero error in Python\n",
        "try:\n",
        "  a = 10/0\n",
        "  print(a)\n",
        "except ZeroDivisionError:\n",
        "  print(\"Error : canot divide by zero \")"
      ],
      "metadata": {
        "colab": {
          "base_uri": "https://localhost:8080/"
        },
        "id": "SGSnLdW3aPsA",
        "outputId": "efab76db-f681-4f5f-a8c6-b8a071477506"
      },
      "execution_count": null,
      "outputs": [
        {
          "output_type": "stream",
          "name": "stdout",
          "text": [
            "Error : canot divide by zero \n"
          ]
        }
      ]
    },
    {
      "cell_type": "code",
      "source": [
        "# 6. Write a Python program that logs an error message to a log file when a division by zero exception occurs\n",
        "import logging\n",
        "\n",
        "logging.basicConfig(filename=\"error.log\",level=logging.ERROR,format=\"%(asctime)s - %(levelname)s - %(message)s\")\n",
        "\n",
        "try:\n",
        "  x = 10\n",
        "  y = 0\n",
        "  a = x/y\n",
        "  print(a)\n",
        "except ZeroDivisionError as e:\n",
        "  logging.error(\" error occured that is  : %s\", e)\n"
      ],
      "metadata": {
        "colab": {
          "base_uri": "https://localhost:8080/"
        },
        "id": "f7cD-cz2axpP",
        "outputId": "d4f0e871-6cdb-4422-d28f-90f6737cb9fe"
      },
      "execution_count": null,
      "outputs": [
        {
          "output_type": "stream",
          "name": "stderr",
          "text": [
            "ERROR:root: error occured that is  : division by zero\n"
          ]
        }
      ]
    },
    {
      "cell_type": "code",
      "source": [
        "# 7. How do you log information at different levels (INFO, ERROR, WARNING) in Python using the logging module?\n",
        "import logging\n",
        "logging.basicConfig(file_name=\"test.loog\",level=logging.INFO)\n",
        "logging.info(\"This is my noraml inforamtion about the software\")\n",
        "logging.warning(\"There is error in the code \")\n",
        "logging.error(\"some error has happend\")\n",
        "logging.shutdown()"
      ],
      "metadata": {
        "colab": {
          "base_uri": "https://localhost:8080/"
        },
        "id": "usYV8OxghLXF",
        "outputId": "44835a60-a8de-411b-9114-096de7f73d56"
      },
      "execution_count": null,
      "outputs": [
        {
          "output_type": "stream",
          "name": "stderr",
          "text": [
            "WARNING:root:There is error in the code \n",
            "ERROR:root:some error has happend\n"
          ]
        }
      ]
    },
    {
      "cell_type": "code",
      "source": [
        "# 8. Write a program to handle a file opening error using exception handling?\n",
        "try:\n",
        "  with open(\"handle_error.txt\",\"r\") as f:\n",
        "    content = f.read()\n",
        "    print(content)\n",
        "except FileNotFoundError:\n",
        "  print(\"handle_error file is not exist\")\n",
        "except PermissionError:\n",
        "  print(\"error you don't have permission to open the file \")\n"
      ],
      "metadata": {
        "colab": {
          "base_uri": "https://localhost:8080/"
        },
        "id": "6TTPp6VQjz6v",
        "outputId": "fe23cc21-621a-46fc-a9e9-7ad4787cd9ee"
      },
      "execution_count": null,
      "outputs": [
        {
          "output_type": "stream",
          "name": "stdout",
          "text": [
            "handle_error file is not exist\n"
          ]
        }
      ]
    },
    {
      "cell_type": "code",
      "source": [
        "# 9. How can you read a file line by line and store its content in a list in Python\n",
        "with open(\"file_read.txt\",\"w\") as f:\n",
        "  f.write(\"hello, python \\n\")\n",
        "  f.write(\"hello, world \\n\")\n",
        "  f.write(\"hello, html \\n\")\n",
        "  f.write(\"hello, java \\n\")\n",
        "with open(\"file_read.txt\",\"r\") as file:\n",
        "  # content=file.readline()\n",
        "  # print(content)\n",
        "  lis=[]\n",
        "  for i in file:\n",
        "    lis.append(i)\n",
        "print(lis)"
      ],
      "metadata": {
        "colab": {
          "base_uri": "https://localhost:8080/"
        },
        "id": "8h4lcNnlolWa",
        "outputId": "89d6edf9-05fc-4059-bef7-145309a49fa1"
      },
      "execution_count": null,
      "outputs": [
        {
          "output_type": "stream",
          "name": "stdout",
          "text": [
            "['hello, python \\n', 'hello, world \\n', 'hello, html \\n', 'hello, java \\n']\n"
          ]
        }
      ]
    },
    {
      "cell_type": "code",
      "source": [
        "# 10. How can you append data to an existing file in Python\n",
        "with open(\"file_append.txt\",\"w\") as f:\n",
        "  f.write(\"this is first line \\n\")\n",
        "  f.write(\"this is second line \\n\")\n",
        "  f.write(\"this is third line  \\n\")\n",
        "  f.write(\"this is fourth line \\n\")\n",
        "\n",
        "with open(\"file_append.txt\",\"a\") as f1:\n",
        "  f1.write(\"this is fifth line\")\n",
        "\n",
        "with open(\"file_append.txt\",\"r\") as f:\n",
        "  line = f.readlines()\n",
        "  print(line)"
      ],
      "metadata": {
        "colab": {
          "base_uri": "https://localhost:8080/"
        },
        "id": "rl_lVqT8vL11",
        "outputId": "9cc6197a-85d3-403e-9725-27b248dd20d0"
      },
      "execution_count": null,
      "outputs": [
        {
          "output_type": "stream",
          "name": "stdout",
          "text": [
            "['this is first line \\n', 'this is second line \\n', 'this is third line  \\n', 'this is fourth line \\n', 'this is fifth line']\n"
          ]
        }
      ]
    },
    {
      "cell_type": "code",
      "source": [
        "# 11. Write a Python program that uses a try-except block to handle an error when attempting to access a dictionary key that doesn't exist\n",
        "try:\n",
        "  dic = {'subject':'physic','marks':86}\n",
        "  s = dic['grade']\n",
        "except KeyError:\n",
        "  print(\" error :this key is not available in the dictionary\")"
      ],
      "metadata": {
        "colab": {
          "base_uri": "https://localhost:8080/"
        },
        "id": "DthDQj9Hw87E",
        "outputId": "492eafc1-867a-401c-9d4c-7d25b1861c4d"
      },
      "execution_count": null,
      "outputs": [
        {
          "output_type": "stream",
          "name": "stdout",
          "text": [
            " error :this key is not available in the dictionary\n"
          ]
        }
      ]
    },
    {
      "cell_type": "code",
      "source": [
        "# 12. Write a program that demonstrates using multiple except blocks to handle different types of exceptions\n",
        "try:\n",
        "  a=10\n",
        "  b=0\n",
        "  result = a/b\n",
        "  print(result)\n",
        "except ZeroDivisionError:\n",
        "  print(\"error occur the error is canot divide by zero \")\n",
        "except Exception as e:\n",
        "  print(\"error occur the error is \",e)"
      ],
      "metadata": {
        "colab": {
          "base_uri": "https://localhost:8080/"
        },
        "id": "jptcdwAI0kC5",
        "outputId": "d15df867-c3b6-4de7-e102-7871ee422641"
      },
      "execution_count": null,
      "outputs": [
        {
          "output_type": "stream",
          "name": "stdout",
          "text": [
            "error occur the error is canot divide by zero \n"
          ]
        }
      ]
    },
    {
      "cell_type": "code",
      "source": [
        "# 13. How would you check if a file exists before attempting to read it in Python?\n",
        "import os\n",
        "\n",
        "filename = \"test.txt\"\n",
        "\n",
        "if os.path.exists(filename):\n",
        "  with open(\"test.txt\",'r') as f:\n",
        "    print(f.read())\n",
        "else:\n",
        "  print(f\"error : {filename} file doesnot exist\")"
      ],
      "metadata": {
        "colab": {
          "base_uri": "https://localhost:8080/"
        },
        "id": "pe1uYcG72jjD",
        "outputId": "e616f8ed-21d6-4a28-e79d-c25633c49ba9"
      },
      "execution_count": null,
      "outputs": [
        {
          "output_type": "stream",
          "name": "stdout",
          "text": [
            "error : test.txt file doesnot exist\n"
          ]
        }
      ]
    },
    {
      "cell_type": "code",
      "source": [
        "# 14. Write a program that uses the logging module to log both informational and error messages\n",
        "import logging\n",
        "logging.basicConfig(filename=\"test.log\",level=logging.INFO)\n",
        "logging.info(\"this is noramal information\")\n",
        "logging.error(\"some error happened\")\n",
        "\n",
        "logging.shutdown()"
      ],
      "metadata": {
        "id": "tbfSCZzU1ru1",
        "colab": {
          "base_uri": "https://localhost:8080/"
        },
        "outputId": "ecee9cc7-7e56-4ec2-8294-074073054726"
      },
      "execution_count": null,
      "outputs": [
        {
          "output_type": "stream",
          "name": "stderr",
          "text": [
            "ERROR:root:some error happened\n"
          ]
        }
      ]
    },
    {
      "cell_type": "code",
      "source": [
        "# 15. Write a Python program that prints the content of a file and handles the case when the file is empty\n",
        "\n",
        "try:\n",
        "  with open(\"example.txt\",\"r\") as file:\n",
        "    content = file.read()\n",
        "    if content.strip() == \"\":\n",
        "      print(\"the file is empty\")\n",
        "    else:\n",
        "      print(content)\n",
        "except FileNotFoundError:\n",
        "  print(\"the file is doesnot exist\")\n",
        "except Exception as e:\n",
        "  print(\"there is error in the code the error is \",e)"
      ],
      "metadata": {
        "colab": {
          "base_uri": "https://localhost:8080/"
        },
        "id": "SVNnN-ULcyZx",
        "outputId": "d34544bd-2457-4e82-f891-041a9b64824c"
      },
      "execution_count": null,
      "outputs": [
        {
          "output_type": "stream",
          "name": "stdout",
          "text": [
            "the file is empty\n"
          ]
        }
      ]
    },
    {
      "cell_type": "code",
      "source": [
        "# 16. Demonstrate how to use memory profiling to check the memory usage of a small program\n"
      ],
      "metadata": {
        "id": "R2aM8xpajWf0"
      },
      "execution_count": null,
      "outputs": []
    },
    {
      "cell_type": "code",
      "source": [
        "# 17. Write a Python program to create and write a list of numbers to a file, one number per line\n",
        "number = [10,20,30,40,50,60,70]\n",
        "with open(\"test1.txt\",\"w\") as f:\n",
        "  for num in number:\n",
        "    f.write(str(num)+\"\\n\")\n",
        "print(\"number is written line by line successfully\")\n",
        "\n",
        "read_numbers = []\n",
        "with open(\"test1.txt\",\"r\") as f:\n",
        "  for line in f:\n",
        "    read_numbers.append(line)\n",
        "print('number read from file',read_numbers)\n"
      ],
      "metadata": {
        "colab": {
          "base_uri": "https://localhost:8080/"
        },
        "id": "s1ZzSsfclQ8z",
        "outputId": "142270ca-a4bb-4a8b-e6a8-97959f328d4d"
      },
      "execution_count": null,
      "outputs": [
        {
          "output_type": "stream",
          "name": "stdout",
          "text": [
            "number is written line by line successfully\n",
            "number read from file ['10\\n', '20\\n', '30\\n', '40\\n', '50\\n', '60\\n', '70\\n']\n"
          ]
        }
      ]
    },
    {
      "cell_type": "code",
      "source": [
        "# 18. How would you implement a basic logging setup that logs to a file with rotation after 1MB?\n",
        "\n"
      ],
      "metadata": {
        "id": "Vru7Nklh3iAS"
      },
      "execution_count": 11,
      "outputs": []
    },
    {
      "cell_type": "code",
      "source": [
        "# 19. Write a program that handles both IndexError and KeyError using a try-except block\n",
        "lis = [1,2,3,4,5,6]\n",
        "dic = {'apple':10,'mango':20,'banana':12}\n",
        "try:\n",
        "  print(lis[10])\n",
        "  print(dic['cherry'])\n",
        "\n",
        "except IndexError:\n",
        "  print(\"there is error int the code the error is  index is out or range\")\n",
        "except KeyError:\n",
        "  print(\"there is error in the code the errro is keynot present \")\n"
      ],
      "metadata": {
        "colab": {
          "base_uri": "https://localhost:8080/"
        },
        "id": "8RNSbwJgrCdc",
        "outputId": "77dc2068-891c-4635-ffec-cddb0b4185de"
      },
      "execution_count": null,
      "outputs": [
        {
          "output_type": "stream",
          "name": "stdout",
          "text": [
            "there is error int the code the error is  index is out or range\n"
          ]
        }
      ]
    },
    {
      "cell_type": "code",
      "source": [
        "# 20. How would you open a file and read its contents using a context manager in Python?\n",
        "with open(\"file.txt\",\"w\") as f:\n",
        "  f.write(\"this is first line \\n\")\n",
        "  f.write(\"this is second line \\n\")\n",
        "  f.write(\"this is third line  \\n\")\n",
        "  f.write(\"this is fourth line \\n\")\n",
        "with open('file.txt','r') as f:\n",
        "  content = f.read()\n",
        "  print(content)"
      ],
      "metadata": {
        "colab": {
          "base_uri": "https://localhost:8080/"
        },
        "id": "D0R9vywBvg9r",
        "outputId": "62a419d3-f1d7-4cac-f0fe-ee92d3686f65"
      },
      "execution_count": null,
      "outputs": [
        {
          "output_type": "stream",
          "name": "stdout",
          "text": [
            "this is first line \n",
            "this is second line \n",
            "this is third line  \n",
            "this is fourth line \n",
            "\n"
          ]
        }
      ]
    },
    {
      "cell_type": "code",
      "source": [
        "# 21. Write a Python program that reads a file and prints the number of occurrences of a specific word\n",
        "with open('sample.txt','w') as f:\n",
        "  f.write('Python is a powerful programming language')\n",
        "  f.write('Many beginners start learning Python because it is easy to understand')\n",
        "  f.write('Companies also use Python for web development, data science, and automation')\n",
        "def count_word_occurrences(filename, word_to_count):\n",
        "    try:\n",
        "        with open(filename, 'r', encoding='utf-8') as file:\n",
        "            text = file.read().lower()\n",
        "            word_to_count = word_to_count.lower()\n",
        "            words = text.split()\n",
        "            count = words.count(word_to_count)\n",
        "            return count\n",
        "    except FileNotFoundError:\n",
        "        print(f\"Error: The file '{filename}' was not found.\")\n",
        "\n",
        "\n",
        "filename = \"sample.txt\"\n",
        "word = \"python\"\n",
        "occurrences = count_word_occurrences(filename, word)\n",
        "\n",
        "if occurrences is not None:\n",
        "    print(f\"The word '{word}' occurs {occurrences} times in the file '{filename}'.\")\n"
      ],
      "metadata": {
        "colab": {
          "base_uri": "https://localhost:8080/"
        },
        "id": "9kz7NDm_0G0m",
        "outputId": "d5021f13-7d7e-4312-c4e1-0a2178ad6f81"
      },
      "execution_count": null,
      "outputs": [
        {
          "output_type": "stream",
          "name": "stdout",
          "text": [
            "The word 'python' occurs 3 times in the file 'sample.txt'.\n"
          ]
        }
      ]
    },
    {
      "cell_type": "code",
      "source": [
        "# 22. How can you check if a file is empty before attempting to read its contents?\n",
        "import os\n",
        "with open(\"test.txt\",'w') as f:\n",
        "  file_name = 'test.txt'\n",
        "try:\n",
        "  if os.path.getsize(file_name) == 0 :\n",
        "    print(\"file is empty\")\n",
        "\n",
        "  else:\n",
        "    print(\"file is not empty\")\n",
        "except FileNotFoundError:\n",
        "  print(\"file is not found \")"
      ],
      "metadata": {
        "id": "GMu3yjz62okf",
        "colab": {
          "base_uri": "https://localhost:8080/"
        },
        "outputId": "317a0845-04ed-45e0-fc67-cd957d57b11b"
      },
      "execution_count": null,
      "outputs": [
        {
          "output_type": "stream",
          "name": "stdout",
          "text": [
            "file is empty\n"
          ]
        }
      ]
    },
    {
      "cell_type": "code",
      "source": [
        "# 23. Write a Python program that writes to a log file when an error occurs during file handling\n",
        "import logging\n",
        "logging.basicConfig(file_name = 'file_error.txt',level = logging.ERROR,format=\"%(asctime)s-%(level)s-%(message)s\")\n",
        "\n",
        "try:\n",
        "  with open(\"file.txt\",\"r\") as f:\n",
        "    f.read()\n",
        "except Exception as e:\n",
        "  logging.error(\"error occured during handling the file : %s \",e)\n"
      ],
      "metadata": {
        "colab": {
          "base_uri": "https://localhost:8080/"
        },
        "id": "tEGNoaGal9cY",
        "outputId": "39dd7a52-32da-42b5-b04c-bea5bf00b736"
      },
      "execution_count": null,
      "outputs": [
        {
          "output_type": "stream",
          "name": "stderr",
          "text": [
            "ERROR:root:error occured during handling the file : [Errno 2] No such file or directory: 'file.txt' \n"
          ]
        }
      ]
    }
  ]
}